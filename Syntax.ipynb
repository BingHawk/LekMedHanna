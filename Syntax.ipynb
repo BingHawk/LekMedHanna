{
 "cells": [
  {
   "cell_type": "markdown",
   "metadata": {},
   "source": [
    "**Listor och Dictionaries**\n",
    "\n",
    "list (Skriv ut efter varje steg):\n",
    "1. Skapa en lista som innehåller siffrorna 3 och 1.\n",
    "2. Lägg till sifran 2 i listan\n",
    "3. Ta ut andra elementet ur listan och spara i en variabel med namnet \"elem\".\n",
    "4. Skriv en if-sats som kollar om siffran 4 finns i listan och skriver ut \"ja\" om den finns och \"nej\" om den inte finns. \n",
    "\n",
    "dictionary (Skriv ut efter varje steg):\n",
    "1. skapa en dictionary med två keys och två values. Key ska vara en sträng med ett tal skrivet med bokstäver (t.ex. \"två\") och value ska vara dess värde i siffor (t.ex. 2). \n",
    "2. Summera de två värdena i dictionaryn och spara i en variabel med namnet \"summa\".\n",
    "3. lägg till värdet på summa i dictionaryn med strängen \"summa\" som key. "
   ]
  },
  {
   "cell_type": "code",
   "execution_count": null,
   "metadata": {},
   "outputs": [],
   "source": [
    "#Skriv din kod här. "
   ]
  }
 ],
 "metadata": {
  "language_info": {
   "name": "python"
  },
  "orig_nbformat": 4
 },
 "nbformat": 4,
 "nbformat_minor": 2
}
