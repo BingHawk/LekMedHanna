{
 "cells": [
  {
   "cell_type": "code",
   "execution_count": 17,
   "metadata": {},
   "outputs": [
    {
     "data": {
      "image/png": "[encoded data removed]",
      "text/plain": [
       "<Figure size 432x288 with 1 Axes>"
      ]
     },
     "metadata": {
      "needs_background": "light"
     },
     "output_type": "display_data"
    }
   ],
   "source": [
    "import numpy as np\n",
    "import matplotlib.pyplot as plt\n",
    "from sympy import symbols, Eq, solve, exp\n",
    "import scipy.linalg as la\n",
    "import math\n",
    "\n",
    "tMax = 50 # Max time\n",
    "timespan = np.linspace(0,tMax)\n",
    "y0 = [0.95, 0.05, 0.0] # Initial condition\n",
    "dt = 0.01\n",
    "time_vector = np.linspace(0,tMax,int(tMax/dt))\n",
    "nIterations = len(time_vector)\n",
    "alpha = 0.2\n",
    "mu = 0.05\n",
    "time_lag = 2\n",
    "history_function = [0.99,0.01,0.00]\n",
    "# history_function = [0,0,0]\n",
    "def sir_s_d(alpha,s,i,r):\n",
    "    f=-alpha*s*i + r\n",
    "    return f\n",
    "def sir_i_d(alpha,mu,s,i):\n",
    "    g=alpha*s*i - mu*i\n",
    "    return g\n",
    "def sir_r_d(mu,i,r):\n",
    "    h=mu*i - r\n",
    "    return h\n",
    "# Define three different vectors for s,i,r\n",
    "S = np.zeros(nIterations)\n",
    "I = np.zeros(nIterations)\n",
    "R = np.zeros(nIterations)\n",
    "S[0] = history_function[0]\n",
    "I[0] = history_function[1]\n",
    "R[0] = history_function[2]\n",
    "\"\"\"... your code goes here ... \"\"\"\n",
    "for i in range(nIterations-1):\n",
    "    delay = (time_lag/dt)\n",
    "    if time_vector[i] - time_lag <= 0:\n",
    "    # Write Euler forward expression for s,i,r. Call history_function[2]\n",
    "    # in place of r when calling sir_s_d,sir_i_d,sir_r_d\n",
    "        \"\"\"... your code goes here ...\"\"\"\n",
    "        S[i+1] = S[i] + dt*sir_s_d(alpha, mu, I[i],history_function[2])\n",
    "        I[i+1] = I[i] + dt*sir_i_d(alpha,mu,S[i],I[i])\n",
    "        R[i+1] = R[i] + dt*sir_r_d(mu,I[i],history_function[2])\n",
    "    else:\n",
    "        # Write euler forward expression for s,i,r. Call R[j-time_lag/dt] in place\n",
    "        # of r when calling sir_s_d,sir_i_d,sir_r_d\n",
    "        \"\"\"... your code goes here ...\"\"\"\n",
    "        S[i+1] = S[i] + dt*sir_s_d(alpha, mu, I[i],R[int(i-delay)])\n",
    "        I[i+1] = I[i] + dt*sir_i_d(alpha,mu,S[i],I[i])\n",
    "        R[i+1] = R[i] + dt*sir_r_d(mu,I[i],R[int(i-delay)])\n",
    "\n",
    "    # if i%100 == 0:\n",
    "    #     print(f\"i = {i}\\nS = {S}\\nI = {I}\\nR = {R}\")\n",
    "\n",
    "# Plot the s,i,r vector vs time \n",
    "\"\"\"... your code goes here ...\"\"\"\n",
    "plt.plot(time_vector,S, label='S')\n",
    "plt.plot(time_vector,I, label='I')\n",
    "plt.plot(time_vector,R, label='R')\n",
    "\n",
    "plt.xlabel('t')\n",
    "plt.ylabel('Population')\n",
    "plt.legend()\n",
    "plt.show()\n",
    "\n",
    "    # Write euler forward expression for s,i,r. Call R[j-time_lag/dt] in place\n",
    "    # of r when calling sir_s_d,sir_i_d,sir_r_d"
   ]
  }
 ],
 "metadata": {
  "kernelspec": {
   "display_name": "Python 3.8.8 ('base')",
   "language": "python",
   "name": "python3"
  },
  "language_info": {
   "codemirror_mode": {
    "name": "ipython",
    "version": 3
   },
   "file_extension": ".py",
   "mimetype": "text/x-python",
   "name": "python",
   "nbconvert_exporter": "python",
   "pygments_lexer": "ipython3",
   "version": "3.8.8"
  },
  "orig_nbformat": 4,
  "vscode": {
   "interpreter": {
    "hash": "394d3d21f71232a2e1ff4fbe70d3f8f4c4fb55ac495a47446cbd463fb339819b"
   }
  }
 },
 "nbformat": 4,
 "nbformat_minor": 2
}
